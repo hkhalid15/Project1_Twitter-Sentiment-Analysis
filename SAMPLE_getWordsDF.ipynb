{
 "cells": [
  {
   "cell_type": "code",
   "execution_count": 1,
   "metadata": {},
   "outputs": [],
   "source": [
    "# Dependendcies\n",
    "import pandas as pd\n",
    "import numpy as np\n",
    "import matplotlib.pyplot as plt\n",
    "\n",
    "from getWordsDF import getWordsDF as gw # importing the class\n",
    "from ApplyFilter import ApplyFilter as AF\n",
    "#import getWordsDF\n"
   ]
  },
  {
   "cell_type": "code",
   "execution_count": 2,
   "metadata": {
    "collapsed": true
   },
   "outputs": [],
   "source": [
    "# required argument for method\n",
    "filepath = \"data/triggerWords.csv\"\n",
    "filepathCA = \"data/CA_17APRIL2018.csv\"\n",
    "filepathTEST = \"data/testdata.manual.2009.06.14.csv\"\n",
    "filepathFULL = \"data/training.1600000.processed.noemoticon.csv\""
   ]
  },
  {
   "cell_type": "code",
   "execution_count": 3,
   "metadata": {},
   "outputs": [
    {
     "data": {
      "text/html": [
       "<div>\n",
       "<style>\n",
       "    .dataframe thead tr:only-child th {\n",
       "        text-align: right;\n",
       "    }\n",
       "\n",
       "    .dataframe thead th {\n",
       "        text-align: left;\n",
       "    }\n",
       "\n",
       "    .dataframe tbody tr th {\n",
       "        vertical-align: top;\n",
       "    }\n",
       "</style>\n",
       "<table border=\"1\" class=\"dataframe\">\n",
       "  <thead>\n",
       "    <tr style=\"text-align: right;\">\n",
       "      <th></th>\n",
       "      <th>phrases</th>\n",
       "    </tr>\n",
       "  </thead>\n",
       "  <tbody>\n",
       "    <tr>\n",
       "      <th>0</th>\n",
       "      <td>kill myself</td>\n",
       "    </tr>\n",
       "    <tr>\n",
       "      <th>1</th>\n",
       "      <td>hurt myself</td>\n",
       "    </tr>\n",
       "    <tr>\n",
       "      <th>2</th>\n",
       "      <td>suicide</td>\n",
       "    </tr>\n",
       "    <tr>\n",
       "      <th>3</th>\n",
       "      <td>can't take it</td>\n",
       "    </tr>\n",
       "    <tr>\n",
       "      <th>4</th>\n",
       "      <td>not sleeping</td>\n",
       "    </tr>\n",
       "  </tbody>\n",
       "</table>\n",
       "</div>"
      ],
      "text/plain": [
       "         phrases\n",
       "0    kill myself\n",
       "1    hurt myself\n",
       "2        suicide\n",
       "3  can't take it\n",
       "4   not sleeping"
      ]
     },
     "execution_count": 3,
     "metadata": {},
     "output_type": "execute_result"
    }
   ],
   "source": [
    "words_df = gw.getWordsDF(filepath)\n",
    "words_df.head()"
   ]
  },
  {
   "cell_type": "code",
   "execution_count": 4,
   "metadata": {
    "scrolled": true
   },
   "outputs": [
    {
     "data": {
      "text/html": [
       "<div>\n",
       "<style>\n",
       "    .dataframe thead tr:only-child th {\n",
       "        text-align: right;\n",
       "    }\n",
       "\n",
       "    .dataframe thead th {\n",
       "        text-align: left;\n",
       "    }\n",
       "\n",
       "    .dataframe tbody tr th {\n",
       "        vertical-align: top;\n",
       "    }\n",
       "</style>\n",
       "<table border=\"1\" class=\"dataframe\">\n",
       "  <thead>\n",
       "    <tr style=\"text-align: right;\">\n",
       "      <th></th>\n",
       "      <th>ID</th>\n",
       "      <th>DateTime</th>\n",
       "      <th>Username</th>\n",
       "      <th>Tweet_text</th>\n",
       "      <th>retweet count</th>\n",
       "      <th>Tweet Name</th>\n",
       "      <th>followers</th>\n",
       "      <th>friends_count</th>\n",
       "      <th>status_count</th>\n",
       "      <th>Search Coordinates</th>\n",
       "    </tr>\n",
       "  </thead>\n",
       "  <tbody>\n",
       "    <tr>\n",
       "      <th>0</th>\n",
       "      <td>986359115659100160</td>\n",
       "      <td>Tue Apr 17 21:41:53 +0000 2018</td>\n",
       "      <td>RON YORK</td>\n",
       "      <td>@ArizonaSoftball @lysssscat32 A wonderful pers...</td>\n",
       "      <td>0</td>\n",
       "      <td>Arizona Softball</td>\n",
       "      <td>14</td>\n",
       "      <td>92</td>\n",
       "      <td>515</td>\n",
       "      <td>(-124.482003, 32.528832, -114.131211, 42.009517)</td>\n",
       "    </tr>\n",
       "    <tr>\n",
       "      <th>1</th>\n",
       "      <td>986359117991182336</td>\n",
       "      <td>Tue Apr 17 21:41:54 +0000 2018</td>\n",
       "      <td>wilcox</td>\n",
       "      <td>Me: ânumber 3 12 count please with 2 Polynes...</td>\n",
       "      <td>0</td>\n",
       "      <td>Chick-fil-A, Inc.</td>\n",
       "      <td>719</td>\n",
       "      <td>373</td>\n",
       "      <td>29409</td>\n",
       "      <td>(-124.482003, 32.528832, -114.131211, 42.009517)</td>\n",
       "    </tr>\n",
       "    <tr>\n",
       "      <th>2</th>\n",
       "      <td>986359118322515968</td>\n",
       "      <td>Tue Apr 17 21:41:54 +0000 2018</td>\n",
       "      <td>Patti Scott</td>\n",
       "      <td>@charlie_savage @maddow McConnell is such a slug</td>\n",
       "      <td>0</td>\n",
       "      <td>Charlie Savage</td>\n",
       "      <td>272</td>\n",
       "      <td>366</td>\n",
       "      <td>1560</td>\n",
       "      <td>(-124.482003, 32.528832, -114.131211, 42.009517)</td>\n",
       "    </tr>\n",
       "    <tr>\n",
       "      <th>3</th>\n",
       "      <td>986359126442721280</td>\n",
       "      <td>Tue Apr 17 21:41:56 +0000 2018</td>\n",
       "      <td>Carlos Allende</td>\n",
       "      <td>@lgbtqnation Itâs quite possible. Was the me...</td>\n",
       "      <td>0</td>\n",
       "      <td>LGBTQ Nation</td>\n",
       "      <td>371</td>\n",
       "      <td>626</td>\n",
       "      <td>4250</td>\n",
       "      <td>(-124.482003, 32.528832, -114.131211, 42.009517)</td>\n",
       "    </tr>\n",
       "    <tr>\n",
       "      <th>4</th>\n",
       "      <td>986359130351792130</td>\n",
       "      <td>Tue Apr 17 21:41:56 +0000 2018</td>\n",
       "      <td>claudia cruz</td>\n",
       "      <td>@thatnigganile Lool</td>\n",
       "      <td>0</td>\n",
       "      <td>Nile Havis Williams</td>\n",
       "      <td>777</td>\n",
       "      <td>1196</td>\n",
       "      <td>23514</td>\n",
       "      <td>(-124.482003, 32.528832, -114.131211, 42.009517)</td>\n",
       "    </tr>\n",
       "    <tr>\n",
       "      <th>5</th>\n",
       "      <td>986359132235026432</td>\n",
       "      <td>Tue Apr 17 21:41:57 +0000 2018</td>\n",
       "      <td>Cory Xenos</td>\n",
       "      <td>@WinnyClarke I saw it last night and people we...</td>\n",
       "      <td>0</td>\n",
       "      <td>Winny Clarke</td>\n",
       "      <td>765</td>\n",
       "      <td>973</td>\n",
       "      <td>17627</td>\n",
       "      <td>(-124.482003, 32.528832, -114.131211, 42.009517)</td>\n",
       "    </tr>\n",
       "    <tr>\n",
       "      <th>6</th>\n",
       "      <td>986359133006790656</td>\n",
       "      <td>Tue Apr 17 21:41:57 +0000 2018</td>\n",
       "      <td>Rob Skywalker</td>\n",
       "      <td>OMFG THE TOWELS ON WEDNESDAY ARE EVEN BETTER ð...</td>\n",
       "      <td>0</td>\n",
       "      <td>San Jose Sharks</td>\n",
       "      <td>548</td>\n",
       "      <td>1517</td>\n",
       "      <td>51163</td>\n",
       "      <td>(-124.482003, 32.528832, -114.131211, 42.009517)</td>\n",
       "    </tr>\n",
       "    <tr>\n",
       "      <th>7</th>\n",
       "      <td>986359133858185217</td>\n",
       "      <td>Tue Apr 17 21:41:57 +0000 2018</td>\n",
       "      <td>Stephan âð¿</td>\n",
       "      <td>One of my first stops when I touchdown is Gram...</td>\n",
       "      <td>0</td>\n",
       "      <td>GODJTWIN318 â ð",
       "</td>\n",
       "      <td>1214</td>\n",
       "      <td>1204</td>\n",
       "      <td>16880</td>\n",
       "      <td>(-124.482003, 32.528832, -114.131211, 42.009517)</td>\n",
       "    </tr>\n",
       "  </tbody>\n",
       "</table>\n",
       "</div>"
      ],
      "text/plain": [
       "                   ID                        DateTime         Username  \\\n",
       "0  986359115659100160  Tue Apr 17 21:41:53 +0000 2018         RON YORK   \n",
       "1  986359117991182336  Tue Apr 17 21:41:54 +0000 2018           wilcox   \n",
       "2  986359118322515968  Tue Apr 17 21:41:54 +0000 2018      Patti Scott   \n",
       "3  986359126442721280  Tue Apr 17 21:41:56 +0000 2018   Carlos Allende   \n",
       "4  986359130351792130  Tue Apr 17 21:41:56 +0000 2018     claudia cruz   \n",
       "5  986359132235026432  Tue Apr 17 21:41:57 +0000 2018       Cory Xenos   \n",
       "6  986359133006790656  Tue Apr 17 21:41:57 +0000 2018    Rob Skywalker   \n",
       "7  986359133858185217  Tue Apr 17 21:41:57 +0000 2018  Stephan âð¿   \n",
       "\n",
       "                                          Tweet_text  retweet count  \\\n",
       "0  @ArizonaSoftball @lysssscat32 A wonderful pers...              0   \n",
       "1  Me: ânumber 3 12 count please with 2 Polynes...              0   \n",
       "2   @charlie_savage @maddow McConnell is such a slug              0   \n",
       "3  @lgbtqnation Itâs quite possible. Was the me...              0   \n",
       "4                                @thatnigganile Lool              0   \n",
       "5  @WinnyClarke I saw it last night and people we...              0   \n",
       "6  OMFG THE TOWELS ON WEDNESDAY ARE EVEN BETTER ð...              0   \n",
       "7  One of my first stops when I touchdown is Gram...              0   \n",
       "\n",
       "            Tweet Name  followers  friends_count  status_count  \\\n",
       "0     Arizona Softball         14             92           515   \n",
       "1    Chick-fil-A, Inc.        719            373         29409   \n",
       "2       Charlie Savage        272            366          1560   \n",
       "3         LGBTQ Nation        371            626          4250   \n",
       "4  Nile Havis Williams        777           1196         23514   \n",
       "5         Winny Clarke        765            973         17627   \n",
       "6      San Jose Sharks        548           1517         51163   \n",
       "7  GODJTWIN318 â ð\n",
       "       1214           1204         16880   \n",
       "\n",
       "                                 Search Coordinates  \n",
       "0  (-124.482003, 32.528832, -114.131211, 42.009517)  \n",
       "1  (-124.482003, 32.528832, -114.131211, 42.009517)  \n",
       "2  (-124.482003, 32.528832, -114.131211, 42.009517)  \n",
       "3  (-124.482003, 32.528832, -114.131211, 42.009517)  \n",
       "4  (-124.482003, 32.528832, -114.131211, 42.009517)  \n",
       "5  (-124.482003, 32.528832, -114.131211, 42.009517)  \n",
       "6  (-124.482003, 32.528832, -114.131211, 42.009517)  \n",
       "7  (-124.482003, 32.528832, -114.131211, 42.009517)  "
      ]
     },
     "execution_count": 4,
     "metadata": {},
     "output_type": "execute_result"
    }
   ],
   "source": [
    "ca_df = gw.getDFFromCSV(filepathCA)\n",
    "ca_df.head()"
   ]
  },
  {
   "cell_type": "code",
   "execution_count": 5,
   "metadata": {},
   "outputs": [
    {
     "data": {
      "text/html": [
       "<div>\n",
       "<style>\n",
       "    .dataframe thead tr:only-child th {\n",
       "        text-align: right;\n",
       "    }\n",
       "\n",
       "    .dataframe thead th {\n",
       "        text-align: left;\n",
       "    }\n",
       "\n",
       "    .dataframe tbody tr th {\n",
       "        vertical-align: top;\n",
       "    }\n",
       "</style>\n",
       "<table border=\"1\" class=\"dataframe\">\n",
       "  <thead>\n",
       "    <tr style=\"text-align: right;\">\n",
       "      <th></th>\n",
       "      <th>Polarity</th>\n",
       "      <th>Tweet_ID</th>\n",
       "      <th>Date</th>\n",
       "      <th>Query</th>\n",
       "      <th>Username</th>\n",
       "      <th>Tweet_text</th>\n",
       "    </tr>\n",
       "  </thead>\n",
       "  <tbody>\n",
       "    <tr>\n",
       "      <th>0</th>\n",
       "      <td>0</td>\n",
       "      <td>1467810369</td>\n",
       "      <td>Mon Apr 06 22:19:45 PDT 2009</td>\n",
       "      <td>NO_QUERY</td>\n",
       "      <td>_TheSpecialOne_</td>\n",
       "      <td>@switchfoot http://twitpic.com/2y1zl - Awww, t...</td>\n",
       "    </tr>\n",
       "    <tr>\n",
       "      <th>1</th>\n",
       "      <td>0</td>\n",
       "      <td>1467810672</td>\n",
       "      <td>Mon Apr 06 22:19:49 PDT 2009</td>\n",
       "      <td>NO_QUERY</td>\n",
       "      <td>scotthamilton</td>\n",
       "      <td>is upset that he can't update his Facebook by ...</td>\n",
       "    </tr>\n",
       "    <tr>\n",
       "      <th>2</th>\n",
       "      <td>0</td>\n",
       "      <td>1467810917</td>\n",
       "      <td>Mon Apr 06 22:19:53 PDT 2009</td>\n",
       "      <td>NO_QUERY</td>\n",
       "      <td>mattycus</td>\n",
       "      <td>@Kenichan I dived many times for the ball. Man...</td>\n",
       "    </tr>\n",
       "    <tr>\n",
       "      <th>3</th>\n",
       "      <td>0</td>\n",
       "      <td>1467811184</td>\n",
       "      <td>Mon Apr 06 22:19:57 PDT 2009</td>\n",
       "      <td>NO_QUERY</td>\n",
       "      <td>ElleCTF</td>\n",
       "      <td>my whole body feels itchy and like its on fire</td>\n",
       "    </tr>\n",
       "    <tr>\n",
       "      <th>4</th>\n",
       "      <td>0</td>\n",
       "      <td>1467811193</td>\n",
       "      <td>Mon Apr 06 22:19:57 PDT 2009</td>\n",
       "      <td>NO_QUERY</td>\n",
       "      <td>Karoli</td>\n",
       "      <td>@nationwideclass no, it's not behaving at all....</td>\n",
       "    </tr>\n",
       "  </tbody>\n",
       "</table>\n",
       "</div>"
      ],
      "text/plain": [
       "   Polarity    Tweet_ID                          Date     Query  \\\n",
       "0         0  1467810369  Mon Apr 06 22:19:45 PDT 2009  NO_QUERY   \n",
       "1         0  1467810672  Mon Apr 06 22:19:49 PDT 2009  NO_QUERY   \n",
       "2         0  1467810917  Mon Apr 06 22:19:53 PDT 2009  NO_QUERY   \n",
       "3         0  1467811184  Mon Apr 06 22:19:57 PDT 2009  NO_QUERY   \n",
       "4         0  1467811193  Mon Apr 06 22:19:57 PDT 2009  NO_QUERY   \n",
       "\n",
       "          Username                                         Tweet_text  \n",
       "0  _TheSpecialOne_  @switchfoot http://twitpic.com/2y1zl - Awww, t...  \n",
       "1    scotthamilton  is upset that he can't update his Facebook by ...  \n",
       "2         mattycus  @Kenichan I dived many times for the ball. Man...  \n",
       "3          ElleCTF    my whole body feels itchy and like its on fire   \n",
       "4           Karoli  @nationwideclass no, it's not behaving at all....  "
      ]
     },
     "execution_count": 5,
     "metadata": {},
     "output_type": "execute_result"
    }
   ],
   "source": [
    "test_df = gw.getDFTest(filepathFULL)\n",
    "test_df.head()"
   ]
  },
  {
   "cell_type": "code",
   "execution_count": 6,
   "metadata": {},
   "outputs": [
    {
     "data": {
      "text/plain": [
       "1600000"
      ]
     },
     "execution_count": 6,
     "metadata": {},
     "output_type": "execute_result"
    }
   ],
   "source": [
    "tot_tweet = test_df['Polarity'].count()\n",
    "tot_tweet"
   ]
  },
  {
   "cell_type": "code",
   "execution_count": 7,
   "metadata": {
    "collapsed": true
   },
   "outputs": [],
   "source": [
    "#filtered_df = AF.ApplyFilter(test_df)\n",
    "#filtered_df.head(9)"
   ]
  },
  {
   "cell_type": "code",
   "execution_count": 8,
   "metadata": {
    "collapsed": true
   },
   "outputs": [],
   "source": [
    "#filtered_df.count()\n",
    "filtered_df = test_df"
   ]
  },
  {
   "cell_type": "code",
   "execution_count": 9,
   "metadata": {
    "collapsed": true
   },
   "outputs": [],
   "source": [
    "#filtered_df.head(408)"
   ]
  },
  {
   "cell_type": "code",
   "execution_count": 10,
   "metadata": {},
   "outputs": [],
   "source": [
    "# below is the original code to filter and run sentiment analysis, however,\n",
    "# we do not wnat to do that again as it takes 20 minutes.  The following block will \n",
    "# use the csv we created from it.\n",
    "\n",
    "# pyTest = AF.filterSentiment(filtered_df, words_df)\n",
    "# pyTest.head()"
   ]
  },
  {
   "cell_type": "code",
   "execution_count": 11,
   "metadata": {
    "collapsed": true
   },
   "outputs": [],
   "source": [
    "# code to take the heavy lift above and convert df into CSV to work with it more easily over time\n",
    "\n",
    "#frames_df_drop.to_csv('data/filteredBIG.csv')"
   ]
  },
  {
   "cell_type": "code",
   "execution_count": 12,
   "metadata": {},
   "outputs": [
    {
     "data": {
      "text/html": [
       "<div>\n",
       "<style>\n",
       "    .dataframe thead tr:only-child th {\n",
       "        text-align: right;\n",
       "    }\n",
       "\n",
       "    .dataframe thead th {\n",
       "        text-align: left;\n",
       "    }\n",
       "\n",
       "    .dataframe tbody tr th {\n",
       "        vertical-align: top;\n",
       "    }\n",
       "</style>\n",
       "<table border=\"1\" class=\"dataframe\">\n",
       "  <thead>\n",
       "    <tr style=\"text-align: right;\">\n",
       "      <th></th>\n",
       "      <th>Unnamed: 0</th>\n",
       "      <th>Polarity</th>\n",
       "      <th>Tweet_ID</th>\n",
       "      <th>Date</th>\n",
       "      <th>Query</th>\n",
       "      <th>Username</th>\n",
       "      <th>Tweet_text</th>\n",
       "      <th>VADER score</th>\n",
       "    </tr>\n",
       "  </thead>\n",
       "  <tbody>\n",
       "    <tr>\n",
       "      <th>0</th>\n",
       "      <td>57147</td>\n",
       "      <td>0</td>\n",
       "      <td>1685590701</td>\n",
       "      <td>Sun May 03 01:05:39 PDT 2009</td>\n",
       "      <td>NO_QUERY</td>\n",
       "      <td>smkudelko</td>\n",
       "      <td>i fucking want to kill kill myself.  want to g...</td>\n",
       "      <td>-0.5797</td>\n",
       "    </tr>\n",
       "    <tr>\n",
       "      <th>1</th>\n",
       "      <td>79082</td>\n",
       "      <td>0</td>\n",
       "      <td>1751668790</td>\n",
       "      <td>Sat May 09 19:59:39 PDT 2009</td>\n",
       "      <td>NO_QUERY</td>\n",
       "      <td>katewhinesalot</td>\n",
       "      <td>@glossymom Challenging yes. Altitude sickness ...</td>\n",
       "      <td>-0.7901</td>\n",
       "    </tr>\n",
       "    <tr>\n",
       "      <th>2</th>\n",
       "      <td>84499</td>\n",
       "      <td>0</td>\n",
       "      <td>1753611470</td>\n",
       "      <td>Sun May 10 02:30:52 PDT 2009</td>\n",
       "      <td>NO_QUERY</td>\n",
       "      <td>cillian23</td>\n",
       "      <td>I always am a sucker for bible verses and Chri...</td>\n",
       "      <td>-0.8555</td>\n",
       "    </tr>\n",
       "    <tr>\n",
       "      <th>3</th>\n",
       "      <td>91098</td>\n",
       "      <td>0</td>\n",
       "      <td>1759341217</td>\n",
       "      <td>Sun May 10 19:00:13 PDT 2009</td>\n",
       "      <td>NO_QUERY</td>\n",
       "      <td>Max_is_awesome</td>\n",
       "      <td>@hiKelseyYO  I know  I should kill myself</td>\n",
       "      <td>-0.6908</td>\n",
       "    </tr>\n",
       "    <tr>\n",
       "      <th>4</th>\n",
       "      <td>92442</td>\n",
       "      <td>0</td>\n",
       "      <td>1760040084</td>\n",
       "      <td>Sun May 10 20:31:32 PDT 2009</td>\n",
       "      <td>NO_QUERY</td>\n",
       "      <td>TTACG</td>\n",
       "      <td>Anybody know who's hiring? I'm looking for a n...</td>\n",
       "      <td>-0.6908</td>\n",
       "    </tr>\n",
       "  </tbody>\n",
       "</table>\n",
       "</div>"
      ],
      "text/plain": [
       "   Unnamed: 0  Polarity    Tweet_ID                          Date     Query  \\\n",
       "0       57147         0  1685590701  Sun May 03 01:05:39 PDT 2009  NO_QUERY   \n",
       "1       79082         0  1751668790  Sat May 09 19:59:39 PDT 2009  NO_QUERY   \n",
       "2       84499         0  1753611470  Sun May 10 02:30:52 PDT 2009  NO_QUERY   \n",
       "3       91098         0  1759341217  Sun May 10 19:00:13 PDT 2009  NO_QUERY   \n",
       "4       92442         0  1760040084  Sun May 10 20:31:32 PDT 2009  NO_QUERY   \n",
       "\n",
       "         Username                                         Tweet_text  \\\n",
       "0       smkudelko  i fucking want to kill kill myself.  want to g...   \n",
       "1  katewhinesalot  @glossymom Challenging yes. Altitude sickness ...   \n",
       "2       cillian23  I always am a sucker for bible verses and Chri...   \n",
       "3  Max_is_awesome          @hiKelseyYO  I know  I should kill myself   \n",
       "4           TTACG  Anybody know who's hiring? I'm looking for a n...   \n",
       "\n",
       "   VADER score  \n",
       "0      -0.5797  \n",
       "1      -0.7901  \n",
       "2      -0.8555  \n",
       "3      -0.6908  \n",
       "4      -0.6908  "
      ]
     },
     "execution_count": 12,
     "metadata": {},
     "output_type": "execute_result"
    }
   ],
   "source": [
    "pyTest = gw.getFilteredDFCSV('data/filteredBIG.csv')\n",
    "pyTest.head()"
   ]
  },
  {
   "cell_type": "code",
   "execution_count": 13,
   "metadata": {},
   "outputs": [
    {
     "data": {
      "text/plain": [
       "6206"
      ]
     },
     "execution_count": 13,
     "metadata": {},
     "output_type": "execute_result"
    }
   ],
   "source": [
    "pyTest['Polarity'].count()"
   ]
  },
  {
   "cell_type": "code",
   "execution_count": 17,
   "metadata": {},
   "outputs": [
    {
     "data": {
      "text/html": [
       "<div>\n",
       "<style>\n",
       "    .dataframe thead tr:only-child th {\n",
       "        text-align: right;\n",
       "    }\n",
       "\n",
       "    .dataframe thead th {\n",
       "        text-align: left;\n",
       "    }\n",
       "\n",
       "    .dataframe tbody tr th {\n",
       "        vertical-align: top;\n",
       "    }\n",
       "</style>\n",
       "<table border=\"1\" class=\"dataframe\">\n",
       "  <thead>\n",
       "    <tr style=\"text-align: right;\">\n",
       "      <th></th>\n",
       "      <th>Score</th>\n",
       "    </tr>\n",
       "    <tr>\n",
       "      <th>Category</th>\n",
       "      <th></th>\n",
       "    </tr>\n",
       "  </thead>\n",
       "  <tbody>\n",
       "    <tr>\n",
       "      <th>Positive</th>\n",
       "      <td>1790</td>\n",
       "    </tr>\n",
       "    <tr>\n",
       "      <th>Neutral</th>\n",
       "      <td>599</td>\n",
       "    </tr>\n",
       "    <tr>\n",
       "      <th>Negative</th>\n",
       "      <td>3817</td>\n",
       "    </tr>\n",
       "  </tbody>\n",
       "</table>\n",
       "</div>"
      ],
      "text/plain": [
       "          Score\n",
       "Category       \n",
       "Positive   1790\n",
       "Neutral     599\n",
       "Negative   3817"
      ]
     },
     "execution_count": 17,
     "metadata": {},
     "output_type": "execute_result"
    }
   ],
   "source": [
    "sent_df = gw.getVaderPosNegNeuScores(pyTest)\n",
    "sent_df.head()"
   ]
  },
  {
   "cell_type": "code",
   "execution_count": 37,
   "metadata": {},
   "outputs": [
    {
     "data": {
      "image/png": "[encoded data removed]",
      "text/plain": [
       "<matplotlib.figure.Figure at 0x2173cbb6470>"
      ]
     },
     "metadata": {},
     "output_type": "display_data"
    }
   ],
   "source": [
    "# Pie chart, where the slices will be ordered and plotted counter-clockwise:\n",
    "labels = 'Positive Tweets', 'Neutral Tweets', 'Negative Tweets'\n",
    "sizes = [sent_df.loc['Positive']['Score'], sent_df.loc['Neutral']['Score'], sent_df.loc['Negative']['Score']]\n",
    "explode = (0.1, 0, 0)  \n",
    "\n",
    "fig1, ax1 = plt.subplots()\n",
    "ax1.pie(sizes, explode=explode, labels=labels, autopct='%1.1f%%',\n",
    "        shadow=True, startangle=90)\n",
    "ax1.axis('equal')  # Equal aspect ratio ensures that pie is drawn as a circle.\n",
    "\n",
    "plt.title(\"Sentiment Analysis on Suicidal Tweets - 2009 1.6m Tweets USA\")\n",
    "plt.show()"
   ]
  },
  {
   "cell_type": "code",
   "execution_count": 38,
   "metadata": {},
   "outputs": [],
   "source": [
    "filepathCASuicide = \"data/CA_suicidelist01.csv\"\n",
    "ca_s_df = gw.getDFFromCSV(filepathCASuicide)\n",
    "analyzed_df = AF.sentAnalyzer(ca_s_df)\n",
    "sent_df2 = gw.getVaderPosNegNeuScores(analyzed_df)"
   ]
  },
  {
   "cell_type": "code",
   "execution_count": 39,
   "metadata": {},
   "outputs": [
    {
     "data": {
      "image/png": "[encoded data removed]",
      "text/plain": [
       "<matplotlib.figure.Figure at 0x2173be88400>"
      ]
     },
     "metadata": {},
     "output_type": "display_data"
    }
   ],
   "source": [
    "# Pie chart, where the slices will be ordered and plotted counter-clockwise:\n",
    "labels = 'Positive Tweets', 'Neutral Tweets', 'Negative Tweets'\n",
    "sizes = [sent_df2.loc['Positive']['Score'], sent_df2.loc['Neutral']['Score'], sent_df2.loc['Negative']['Score']]\n",
    "explode = (0.1, 0, 0)  \n",
    "\n",
    "fig1, ax1 = plt.subplots()\n",
    "ax1.pie(sizes, explode=explode, labels=labels, autopct='%1.1f%%',\n",
    "        shadow=True, startangle=90)\n",
    "ax1.axis('equal')  # Equal aspect ratio ensures that pie is drawn as a circle.\n",
    "\n",
    "plt.title(\"Sentiment Analysis on Suicidal Tweets - California\")\n",
    "plt.show()"
   ]
  },
  {
   "cell_type": "code",
   "execution_count": 40,
   "metadata": {},
   "outputs": [],
   "source": [
    "filepathNYSuicide = \"data/NY_suicidelist01.csv\"\n",
    "ny_s_df = gw.getDFFromCSV(filepathNYSuicide)\n",
    "analyzed2_df = AF.sentAnalyzer(ny_s_df)\n",
    "sent_df3 = gw.getVaderPosNegNeuScores(analyzed2_df)"
   ]
  },
  {
   "cell_type": "code",
   "execution_count": 41,
   "metadata": {},
   "outputs": [
    {
     "data": {
      "image/png": "[encoded data removed]",
      "text/plain": [
       "<matplotlib.figure.Figure at 0x2173cac9160>"
      ]
     },
     "metadata": {},
     "output_type": "display_data"
    }
   ],
   "source": [
    "# Pie chart, where the slices will be ordered and plotted counter-clockwise:\n",
    "labels = 'Positive Tweets', 'Neutral Tweets', 'Negative Tweets'\n",
    "sizes = [sent_df3.loc['Positive']['Score'], sent_df3.loc['Neutral']['Score'], sent_df3.loc['Negative']['Score']]\n",
    "explode = (0.1, 0, 0)  \n",
    "\n",
    "fig1, ax1 = plt.subplots()\n",
    "ax1.pie(sizes, explode=explode, labels=labels, autopct='%1.1f%%',\n",
    "        shadow=True, startangle=90)\n",
    "ax1.axis('equal')  # Equal aspect ratio ensures that pie is drawn as a circle.\n",
    "\n",
    "plt.title(\"Sentiment Analysis on Suicidal Tweets - New York\")\n",
    "plt.show()"
   ]
  },
  {
   "cell_type": "code",
   "execution_count": 42,
   "metadata": {
    "collapsed": true
   },
   "outputs": [],
   "source": [
    "filepathWASSuicide = \"data/WA_WA_SAD.csv\"\n",
    "was_s_df = gw.getDFFromCSV(filepathWASSuicide)\n",
    "analyzed3_df = AF.sentAnalyzer(was_s_df)\n",
    "sent_df4 = gw.getVaderPosNegNeuScores(analyzed3_df)"
   ]
  },
  {
   "cell_type": "code",
   "execution_count": 43,
   "metadata": {},
   "outputs": [
    {
     "data": {
      "image/png": "[encoded data removed]",
      "text/plain": [
       "<matplotlib.figure.Figure at 0x2173ea98f28>"
      ]
     },
     "metadata": {},
     "output_type": "display_data"
    }
   ],
   "source": [
    "# Pie chart, where the slices will be ordered and plotted counter-clockwise:\n",
    "labels = 'Positive Tweets', 'Neutral Tweets', 'Negative Tweets'\n",
    "sizes = [sent_df4.loc['Positive']['Score'], sent_df4.loc['Neutral']['Score'], sent_df4.loc['Negative']['Score']]\n",
    "explode = (0.1, 0, 0)  \n",
    "\n",
    "fig1, ax1 = plt.subplots()\n",
    "ax1.pie(sizes, explode=explode, labels=labels, autopct='%1.1f%%',\n",
    "        shadow=True, startangle=90)\n",
    "ax1.axis('equal')  # Equal aspect ratio ensures that pie is drawn as a circle.\n",
    "\n",
    "plt.title(\"Sentiment Analysis on Suicidal Tweets - Washington\")\n",
    "plt.show()"
   ]
  },
  {
   "cell_type": "code",
   "execution_count": null,
   "metadata": {
    "collapsed": true
   },
   "outputs": [],
   "source": []
  }
 ],
 "metadata": {
  "kernelspec": {
   "display_name": "Python 3",
   "language": "python",
   "name": "python3"
  },
  "language_info": {
   "codemirror_mode": {
    "name": "ipython",
    "version": 3
   },
   "file_extension": ".py",
   "mimetype": "text/x-python",
   "name": "python",
   "nbconvert_exporter": "python",
   "pygments_lexer": "ipython3",
   "version": "3.6.4"
  }
 },
 "nbformat": 4,
 "nbformat_minor": 2
}
